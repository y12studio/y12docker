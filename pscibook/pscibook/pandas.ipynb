{
 "cells": [
  {
   "cell_type": "code",
   "execution_count": 1,
   "metadata": {
    "collapsed": true
   },
   "outputs": [],
   "source": [
    "%matplotlib inline"
   ]
  },
  {
   "cell_type": "code",
   "execution_count": 2,
   "metadata": {
    "collapsed": false
   },
   "outputs": [
    {
     "name": "stdout",
     "output_type": "stream",
     "text": [
      "                  Open        High         Low       Close      Volume  \\\n",
      "Date                                                                     \n",
      "2014-01-02  1845.85999  1845.85999  1827.73999  1831.97998  3080600000   \n",
      "2014-01-03  1833.20996  1838.23999  1829.13000  1831.37000  2774270000   \n",
      "2014-01-06  1832.31006  1837.16003  1823.72998  1826.77002  3294850000   \n",
      "2014-01-07  1828.70996  1840.09998  1828.70996  1837.88000  3511750000   \n",
      "2014-01-08  1837.90002  1840.02002  1831.40002  1837.48999  3652140000   \n",
      "\n",
      "             Adj Close  \n",
      "Date                    \n",
      "2014-01-02  1831.97998  \n",
      "2014-01-03  1831.37000  \n",
      "2014-01-06  1826.77002  \n",
      "2014-01-07  1837.88000  \n",
      "2014-01-08  1837.48999  \n"
     ]
    }
   ],
   "source": [
    "import pandas as pd\n",
    "import pandas.io.data as web\n",
    "import datetime\n",
    "start=datetime.datetime(2014, 1, 1)\n",
    "end=datetime.datetime(2015, 1, 1)\n",
    "# %5EGSPC sp500\n",
    "f = web.DataReader(\"%5EGSPC\", 'yahoo', start, end)\n",
    "print(f.head())"
   ]
  },
  {
   "cell_type": "code",
   "execution_count": 3,
   "metadata": {
    "collapsed": false
   },
   "outputs": [
    {
     "name": "stdout",
     "output_type": "stream",
     "text": [
      "                  Open        High         Low       Close      Volume  \\\n",
      "Date                                                                     \n",
      "2014-01-02  1845.85999  1845.85999  1827.73999  1831.97998  3080600000   \n",
      "2014-01-03  1833.20996  1838.23999  1829.13000  1831.37000  2774270000   \n",
      "2014-01-06  1832.31006  1837.16003  1823.72998  1826.77002  3294850000   \n",
      "2014-01-07  1828.70996  1840.09998  1828.70996  1837.88000  3511750000   \n",
      "2014-01-08  1837.90002  1840.02002  1831.40002  1837.48999  3652140000   \n",
      "\n",
      "             Adj Close  \n",
      "Date                    \n",
      "2014-01-02  1831.97998  \n",
      "2014-01-03  1831.37000  \n",
      "2014-01-06  1826.77002  \n",
      "2014-01-07  1837.88000  \n",
      "2014-01-08  1837.48999  \n"
     ]
    }
   ],
   "source": [
    "csvfile='sp500.csv'\n",
    "f.to_csv(csvfile)\n",
    "df = pd.read_csv(csvfile, index_col='Date', parse_dates=True)\n",
    "print(df.head())"
   ]
  },
  {
   "cell_type": "code",
   "execution_count": 4,
   "metadata": {
    "collapsed": false
   },
   "outputs": [
    {
     "name": "stdout",
     "output_type": "stream",
     "text": [
      "Date\n",
      "2014-01-02    1845.85999\n",
      "2014-01-03    1833.20996\n",
      "2014-01-06    1832.31006\n",
      "2014-01-07    1828.70996\n",
      "2014-01-08    1837.90002\n",
      "Name: Open, dtype: float64\n"
     ]
    }
   ],
   "source": [
    "df2 = df['Open']\n",
    "print(df2.head())"
   ]
  },
  {
   "cell_type": "code",
   "execution_count": 5,
   "metadata": {
    "collapsed": false
   },
   "outputs": [
    {
     "name": "stdout",
     "output_type": "stream",
     "text": [
      "                 Close        High\n",
      "Date                              \n",
      "2014-01-02  1831.97998  1845.85999\n",
      "2014-01-03  1831.37000  1838.23999\n",
      "2014-01-06  1826.77002  1837.16003\n",
      "2014-01-07  1837.88000  1840.09998\n",
      "2014-01-08  1837.48999  1840.02002\n"
     ]
    }
   ],
   "source": [
    "df3 = df[['Close','High']]\n",
    "print(df3.head())"
   ]
  },
  {
   "cell_type": "code",
   "execution_count": 6,
   "metadata": {
    "collapsed": false
   },
   "outputs": [
    {
     "name": "stdout",
     "output_type": "stream",
     "text": [
      "                 Close        High\n",
      "Date                              \n",
      "2014-01-02  1831.97998  1845.85999\n",
      "2014-01-03  1831.37000  1838.23999\n",
      "2014-01-06  1826.77002  1837.16003\n",
      "2014-01-07  1837.88000  1840.09998\n",
      "2014-01-08  1837.48999  1840.02002\n"
     ]
    }
   ],
   "source": [
    "df4 = df3[(df3['Close'] > 1400)]\n",
    "print(df4.head())"
   ]
  },
  {
   "cell_type": "code",
   "execution_count": 7,
   "metadata": {
    "collapsed": false
   },
   "outputs": [
    {
     "name": "stdout",
     "output_type": "stream",
     "text": [
      "                  Open        High         Low       Close      Volume  \\\n",
      "Date                                                                     \n",
      "2014-01-02  1845.85999  1845.85999  1827.73999  1831.97998  3080600000   \n",
      "2014-01-03  1833.20996  1838.23999  1829.13000  1831.37000  2774270000   \n",
      "2014-01-06  1832.31006  1837.16003  1823.72998  1826.77002  3294850000   \n",
      "2014-01-07  1828.70996  1840.09998  1828.70996  1837.88000  3511750000   \n",
      "2014-01-08  1837.90002  1840.02002  1831.40002  1837.48999  3652140000   \n",
      "\n",
      "             Adj Close       H-L  \n",
      "Date                              \n",
      "2014-01-02  1831.97998  18.12000  \n",
      "2014-01-03  1831.37000   9.10999  \n",
      "2014-01-06  1826.77002  13.43005  \n",
      "2014-01-07  1837.88000  11.39002  \n",
      "2014-01-08  1837.48999   8.62000  \n"
     ]
    }
   ],
   "source": [
    "df['H-L'] = df.High - df.Low\n",
    "print(df.head())"
   ]
  },
  {
   "cell_type": "code",
   "execution_count": 8,
   "metadata": {
    "collapsed": false
   },
   "outputs": [
    {
     "name": "stdout",
     "output_type": "stream",
     "text": [
      "                  Open        High         Low       Close      Volume  \\\n",
      "Date                                                                     \n",
      "2014-10-17  1864.91003  1898.16003  1864.91003  1886.76001  4482120000   \n",
      "2014-10-20  1885.62000  1905.03003  1882.30005  1904.01001  3331210000   \n",
      "2014-10-21  1909.38000  1942.44995  1909.38000  1941.28003  3987090000   \n",
      "2014-10-22  1941.29004  1949.31006  1926.82996  1927.10999  3761930000   \n",
      "2014-10-23  1931.02002  1961.94995  1931.02002  1950.81995  3789250000   \n",
      "2014-10-24  1951.58997  1965.27002  1946.27002  1964.57996  3078380000   \n",
      "2014-10-27  1962.96997  1964.64001  1951.37000  1961.63000  3538860000   \n",
      "2014-10-28  1964.14001  1985.05005  1964.14001  1985.05005  3653260000   \n",
      "2014-10-29  1983.29004  1991.40002  1969.04004  1982.30005  3740350000   \n",
      "2014-10-30  1979.48999  1999.40002  1974.75000  1994.65002  3586150000   \n",
      "\n",
      "             Adj Close       H-L        100MA  \n",
      "Date                                           \n",
      "2014-10-17  1886.76001  33.25000  1961.183895  \n",
      "2014-10-20  1904.01001  22.72998  1961.023695  \n",
      "2014-10-21  1941.28003  33.06995  1961.200796  \n",
      "2014-10-22  1927.10999  22.48010  1961.222196  \n",
      "2014-10-23  1950.81995  30.92993  1961.487996  \n",
      "2014-10-24  1964.57996  19.00000  1961.854995  \n",
      "2014-10-27  1961.63000  13.27001  1962.066696  \n",
      "2014-10-28  1985.05005  20.91004  1962.422797  \n",
      "2014-10-29  1982.30005  22.35998  1962.733097  \n",
      "2014-10-30  1994.65002  24.65002  1963.171697  \n"
     ]
    }
   ],
   "source": [
    "df['100MA'] = pd.rolling_mean(df['Close'], 100)\n",
    "print(df[200:210])"
   ]
  },
  {
   "cell_type": "code",
   "execution_count": 9,
   "metadata": {
    "collapsed": false
   },
   "outputs": [
    {
     "name": "stdout",
     "output_type": "stream",
     "text": [
      "                  Open        High         Low       Close      Volume  \\\n",
      "Date                                                                     \n",
      "2014-01-02  1845.85999  1845.85999  1827.73999  1831.97998  3080600000   \n",
      "2014-01-03  1833.20996  1838.23999  1829.13000  1831.37000  2774270000   \n",
      "2014-01-06  1832.31006  1837.16003  1823.72998  1826.77002  3294850000   \n",
      "2014-01-07  1828.70996  1840.09998  1828.70996  1837.88000  3511750000   \n",
      "2014-01-08  1837.90002  1840.02002  1831.40002  1837.48999  3652140000   \n",
      "\n",
      "             Adj Close       H-L  100MA  Difference  \n",
      "Date                                                 \n",
      "2014-01-02  1831.97998  18.12000    NaN         NaN  \n",
      "2014-01-03  1831.37000   9.10999    NaN    -0.60998  \n",
      "2014-01-06  1826.77002  13.43005    NaN    -4.59998  \n",
      "2014-01-07  1837.88000  11.39002    NaN    11.10998  \n",
      "2014-01-08  1837.48999   8.62000    NaN    -0.39001  \n"
     ]
    }
   ],
   "source": [
    "df['Difference'] = df['Close'].diff()\n",
    "print(df.head())"
   ]
  },
  {
   "cell_type": "code",
   "execution_count": 10,
   "metadata": {
    "collapsed": false
   },
   "outputs": [
    {
     "data": {
      "image/png": "[encoded data removed]",
      "text/plain": [
       "<matplotlib.figure.Figure at 0x7fdad2b63790>"
      ]
     },
     "metadata": {},
     "output_type": "display_data"
    }
   ],
   "source": [
    "import matplotlib.pyplot as plt\n",
    "df[['Open','High','Low','Close','100MA']].plot()\n",
    "plt.show()"
   ]
  },
  {
   "cell_type": "code",
   "execution_count": null,
   "metadata": {
    "collapsed": true
   },
   "outputs": [],
   "source": []
  }
 ],
 "metadata": {
  "kernelspec": {
   "display_name": "Python 2",
   "language": "python",
   "name": "python2"
  },
  "language_info": {
   "codemirror_mode": {
    "name": "ipython",
    "version": 2
   },
   "file_extension": ".py",
   "mimetype": "text/x-python",
   "name": "python",
   "nbconvert_exporter": "python",
   "pygments_lexer": "ipython2",
   "version": "2.7.9"
  }
 },
 "nbformat": 4,
 "nbformat_minor": 0
}
